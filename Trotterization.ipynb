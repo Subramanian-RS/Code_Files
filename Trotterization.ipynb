{
 "cells": [
  {
   "cell_type": "markdown",
   "id": "ae789f79",
   "metadata": {},
   "source": [
    "# Trotterization"
   ]
  },
  {
   "cell_type": "markdown",
   "id": "fa32adfa",
   "metadata": {},
   "source": [
    "This code is written for an assignment as a part of my graduate coursework titled 'Introduction to Quantum Computation', demonstrating the trotterization formula"
   ]
  },
  {
   "cell_type": "code",
   "execution_count": 1,
   "id": "43caf467-0787-4ca3-909a-09e1fc06557f",
   "metadata": {},
   "outputs": [],
   "source": [
    "import numpy as np\n",
    "from scipy.linalg import expm\n",
    "from qiskit.quantum_info import Statevector"
   ]
  },
  {
   "cell_type": "code",
   "execution_count": 2,
   "id": "2f2790fb-7f0a-4137-be18-94b119b37357",
   "metadata": {},
   "outputs": [],
   "source": [
    "import numpy as np\n",
    "from qiskit import QuantumCircuit"
   ]
  },
  {
   "cell_type": "code",
   "execution_count": 3,
   "id": "d67488c7-c651-495e-a95b-df780644d55c",
   "metadata": {},
   "outputs": [],
   "source": [
    "#Hamiltonian\n",
    "a = np.array([[1,-1j],[1j,-1]])\n",
    "\n",
    "#Exact Unitary evolution operator\n",
    "#time is taken as 1\n",
    "U = expm(-1j*a)"
   ]
  },
  {
   "cell_type": "code",
   "execution_count": 4,
   "id": "c3593008-a4e9-418a-ab12-59e65494ea3d",
   "metadata": {},
   "outputs": [],
   "source": [
    "import numpy as np\n",
    "from qiskit import QuantumCircuit"
   ]
  },
  {
   "cell_type": "code",
   "execution_count": 5,
   "id": "d17d8000-f177-48cd-a7e2-3e7c514b48f4",
   "metadata": {},
   "outputs": [
    {
     "data": {
      "image/png": "[encoded data removed]",
      "text/plain": [
       "<Figure size 269.064x117.056 with 1 Axes>"
      ]
     },
     "execution_count": 5,
     "metadata": {},
     "output_type": "execute_result"
    }
   ],
   "source": [
    "circuit_U = QuantumCircuit(1)\n",
    "circuit_U.unitary(U, circuit_U.qubits)\n",
    "#circuit.measure_all()\n",
    "circuit_U.draw('mpl')"
   ]
  },
  {
   "cell_type": "code",
   "execution_count": 6,
   "id": "0e19a810-f8cc-41e8-8a1f-fde2b7ea5eb7",
   "metadata": {},
   "outputs": [
    {
     "data": {
      "text/latex": [
       "$$(0.1559436948 - 0.6984559986 i) |0\\rangle+0.6984559986 |1\\rangle$$"
      ],
      "text/plain": [
       "<IPython.core.display.Latex object>"
      ]
     },
     "execution_count": 6,
     "metadata": {},
     "output_type": "execute_result"
    }
   ],
   "source": [
    "#Output from Exact Evolution \n",
    "ket0=Statevector([1,0])\n",
    "out = ket0.evolve(circuit_U)\n",
    "out.draw(\"latex\")"
   ]
  },
  {
   "cell_type": "code",
   "execution_count": 7,
   "id": "9c82d49d-0a7e-4184-9f97-c6982182bc3c",
   "metadata": {},
   "outputs": [],
   "source": [
    "from numpy import pi\n",
    "circuit = QuantumCircuit(1)\n",
    "#Delta t is chosen as 1/100000\n",
    "for i in range(100000):\n",
    "    circuit.rz(0.00002,0)\n",
    "    circuit.ry(0.00002,0)\n",
    "#circuit.draw('mpl')"
   ]
  },
  {
   "cell_type": "code",
   "execution_count": 8,
   "id": "5ba9b47e-2fd8-4123-90ce-47adb149cd2a",
   "metadata": {},
   "outputs": [
    {
     "data": {
      "text/latex": [
       "$$(0.1559436948 - 0.6984559986 i) |0\\rangle+(0.6984559986 - 6.9846 \\cdot 10^{-6} i) |1\\rangle$$"
      ],
      "text/plain": [
       "<IPython.core.display.Latex object>"
      ]
     },
     "execution_count": 8,
     "metadata": {},
     "output_type": "execute_result"
    }
   ],
   "source": [
    "#Output from Trotterization\n",
    "ket0=Statevector([1,0])\n",
    "out = ket0.evolve(circuit)\n",
    "out.draw(\"latex\")"
   ]
  },
  {
   "cell_type": "markdown",
   "id": "cff80562",
   "metadata": {},
   "source": [
    "We see close resemblance in answers, as delta t is close to zero"
   ]
  },
  {
   "cell_type": "code",
   "execution_count": null,
   "id": "365ad9ad",
   "metadata": {},
   "outputs": [],
   "source": []
  }
 ],
 "metadata": {
  "kernelspec": {
   "display_name": "Python 3 (ipykernel)",
   "language": "python",
   "name": "python3"
  },
  "language_info": {
   "codemirror_mode": {
    "name": "ipython",
    "version": 3
   },
   "file_extension": ".py",
   "mimetype": "text/x-python",
   "name": "python",
   "nbconvert_exporter": "python",
   "pygments_lexer": "ipython3",
   "version": "3.11.3"
  }
 },
 "nbformat": 4,
 "nbformat_minor": 5
}
